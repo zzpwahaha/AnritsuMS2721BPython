{
 "cells": [
  {
   "cell_type": "code",
   "execution_count": 2,
   "metadata": {},
   "outputs": [],
   "source": [
    "import numpy as np\n",
    "import matplotlib.pyplot as plt\n",
    "from scipy.optimize import curve_fit\n",
    "import pandas as pd\n",
    "\n",
    "from scipy.signal import find_peaks"
   ]
  },
  {
   "cell_type": "code",
   "execution_count": 3,
   "metadata": {},
   "outputs": [],
   "source": [
    "def customize_axis_color(ax, axis='right', color='tab:orange'):\n",
    "    \"\"\"\n",
    "    Customize the color of a specific axis (spine, ticks, tick labels, and label).\n",
    "\n",
    "    Parameters:\n",
    "        ax (matplotlib.axes.Axes): The Axes object to modify.\n",
    "        axis (str): The axis to customize. Options: 'left', 'right', 'top', 'bottom'.\n",
    "        color (str): The color to apply to the axis components.\n",
    "    \"\"\"\n",
    "    # Customize the spine color\n",
    "    # ax.spines[axis].set_color(color)\n",
    "\n",
    "    # Customize the ticks and tick labels\n",
    "    if axis in ['left', 'right']:\n",
    "        ax.tick_params(axis='y', colors=color)\n",
    "    elif axis in ['top', 'bottom']:\n",
    "        ax.tick_params(axis='x', colors=color)\n",
    "\n",
    "    # Customize the axis label color\n",
    "    if axis == 'left':\n",
    "        ax.yaxis.get_label().set_color(color)\n",
    "    elif axis == 'right':\n",
    "        # For right spine, you may need to enable the secondary y-axis label\n",
    "        ax.yaxis.get_label().set_color(color)\n",
    "    elif axis == 'bottom':\n",
    "        ax.xaxis.get_label().set_color(color)\n",
    "    elif axis == 'top':\n",
    "        # For top spine, you may need to enable the secondary x-axis label\n",
    "        ax.xaxis.get_label().set_color(color)"
   ]
  },
  {
   "cell_type": "code",
   "execution_count": 17,
   "metadata": {},
   "outputs": [],
   "source": [
    "def calculate_group_stats(arr0, arr1):\n",
    "    \"\"\"\n",
    "    Calculate mean and std for groups of array1 elements that share the same values in array0\n",
    "    \n",
    "    Parameters:\n",
    "    arr0 (array-like): Array with repeating elements (grouping key)\n",
    "    arr1 (array-like): Array with values to calculate statistics\n",
    "    \n",
    "    Returns:\n",
    "    dict: {unique_value: (mean, std), ...}\n",
    "    \"\"\"\n",
    "    # Convert to numpy arrays\n",
    "    arr0 = np.asarray(arr0)\n",
    "    arr1 = np.asarray(arr1)\n",
    "    \n",
    "    # Validate inputs\n",
    "    if arr0.ndim != 1 or arr1.ndim != 1:\n",
    "        raise ValueError(\"Input arrays must be 1D\")\n",
    "    if arr0.size != arr1.size:\n",
    "        raise ValueError(\"Input arrays must have the same size\")\n",
    "    \n",
    "    # Get unique values and their indices\n",
    "    unique_values, inverse_indices = np.unique(arr0, return_inverse=True)\n",
    "    \n",
    "    # Initialize result dictionary\n",
    "    result = {}\n",
    "    \n",
    "    # Calculate statistics for each unique value\n",
    "    for idx, value in enumerate(unique_values):\n",
    "        # Get mask for current group\n",
    "        mask = inverse_indices == idx\n",
    "        group_values = arr1[mask]\n",
    "        \n",
    "        # Calculate statistics\n",
    "        if group_values.size == 0:\n",
    "            mean = std = np.nan\n",
    "        else:\n",
    "            mean = np.mean(group_values)\n",
    "            std = np.std(group_values, ddof=1)  # Sample standard deviation\n",
    "        \n",
    "        result[value] = {'mean': mean, 'std': std, 'count': group_values.size}\n",
    "    \n",
    "    return result"
   ]
  },
  {
   "cell_type": "code",
   "execution_count": null,
   "metadata": {},
   "outputs": [],
   "source": []
  },
  {
   "cell_type": "code",
   "execution_count": 7,
   "metadata": {},
   "outputs": [],
   "source": [
    "df = pd.read_csv(r'./varyMWAmplitude.csv', names=['time', 'outdBm', 'dcPD', 'mwdBmPD'], skiprows=1)"
   ]
  },
  {
   "cell_type": "code",
   "execution_count": 12,
   "metadata": {},
   "outputs": [],
   "source": [
    "pd_mw_pwr = df.mwdBmPD\n",
    "pd_mw_amp = np.sqrt(10**(pd_mw_pwr/10)*1e-3 * 2 * 50)\n",
    "pd_dc_voltage = df.dcPD\n",
    "amp_mod_ratio = pd_mw_amp / pd_dc_voltage"
   ]
  },
  {
   "cell_type": "code",
   "execution_count": 22,
   "metadata": {},
   "outputs": [],
   "source": [
    "stats = calculate_group_stats(df.outdBm, amp_mod_ratio)"
   ]
  },
  {
   "cell_type": "code",
   "execution_count": 31,
   "metadata": {},
   "outputs": [
    {
     "data": {
      "text/plain": [
       "Text(0.5, 1.0, 'Group Means with Standard Deviation')"
      ]
     },
     "execution_count": 31,
     "metadata": {},
     "output_type": "execute_result"
    },
    {
     "data": {
      "image/png": "[encoded data removed]",
      "text/plain": [
       "<Figure size 640x480 with 1 Axes>"
      ]
     },
     "metadata": {},
     "output_type": "display_data"
    }
   ],
   "source": [
    "# Sort keys for consistent ordering\n",
    "keys = np.sort(list(stats.keys()))\n",
    "means = [stats[k][\"mean\"] for k in keys]\n",
    "stds = [stats[k][\"std\"] for k in keys]\n",
    "\n",
    "fig, ax = plt.subplots()\n",
    "# Plot with error bars\n",
    "ax.errorbar(\n",
    "    np.sqrt(10 ** (keys / 10) * 1e-3 * 2 * 50) , means, yerr=stds, fmt=\".\", color=\"k\"\n",
    ")\n",
    "\n",
    "# Formatting\n",
    "ax.set_xlabel(\"Group Key (Array0 Value)\")\n",
    "ax.set_ylabel(\"Array1 Value\")\n",
    "ax.set_title(\"Group Means with Standard Deviation\")"
   ]
  },
  {
   "cell_type": "code",
   "execution_count": 27,
   "metadata": {},
   "outputs": [
    {
     "data": {
      "text/plain": [
       "array([-10.,  -9.,  -8.,  -7.,  -6.,  -5.,  -4.,  -3.,  -2.,  -1.,   0.,\n",
       "         1.,   2.,   3.,   4.,   5.,   6.,   7.,   8.,   9.,  10.,  11.,\n",
       "        12.,  13.,  14.,  15.,  16.])"
      ]
     },
     "execution_count": 27,
     "metadata": {},
     "output_type": "execute_result"
    }
   ],
   "source": [
    "keys"
   ]
  },
  {
   "cell_type": "code",
   "execution_count": null,
   "metadata": {},
   "outputs": [],
   "source": []
  },
  {
   "cell_type": "code",
   "execution_count": null,
   "metadata": {},
   "outputs": [],
   "source": []
  },
  {
   "cell_type": "code",
   "execution_count": null,
   "metadata": {},
   "outputs": [],
   "source": []
  },
  {
   "cell_type": "code",
   "execution_count": null,
   "metadata": {},
   "outputs": [],
   "source": []
  },
  {
   "cell_type": "code",
   "execution_count": null,
   "metadata": {},
   "outputs": [],
   "source": []
  },
  {
   "cell_type": "code",
   "execution_count": null,
   "metadata": {},
   "outputs": [],
   "source": []
  },
  {
   "cell_type": "code",
   "execution_count": null,
   "metadata": {},
   "outputs": [],
   "source": []
  }
 ],
 "metadata": {
  "kernelspec": {
   "display_name": "base",
   "language": "python",
   "name": "python3"
  },
  "language_info": {
   "codemirror_mode": {
    "name": "ipython",
    "version": 3
   },
   "file_extension": ".py",
   "mimetype": "text/x-python",
   "name": "python",
   "nbconvert_exporter": "python",
   "pygments_lexer": "ipython3",
   "version": "3.11.4"
  }
 },
 "nbformat": 4,
 "nbformat_minor": 2
}
